{
 "cells": [
  {
   "cell_type": "markdown",
   "metadata": {},
   "source": [
    "ดึงข้อมูลเพื่อในไปเพิ่มในdataset \n",
    "10-k(รายงานประจำปี) \n",
    "10-q(รายงานไตรมาส)"
   ]
  },
  {
   "cell_type": "code",
   "execution_count": 1,
   "metadata": {},
   "outputs": [
    {
     "name": "stdout",
     "output_type": "stream",
     "text": [
      "Collecting sec_edgar_downloader\n",
      "  Downloading sec_edgar_downloader-5.0.3-py3-none-any.whl.metadata (11 kB)\n",
      "Requirement already satisfied: requests in /Library/Frameworks/Python.framework/Versions/3.8/lib/python3.8/site-packages (from sec_edgar_downloader) (2.32.3)\n",
      "Collecting pyrate-limiter>=3.6.0 (from sec_edgar_downloader)\n",
      "  Downloading pyrate_limiter-3.7.0-py3-none-any.whl.metadata (25 kB)\n",
      "Requirement already satisfied: charset-normalizer<4,>=2 in /Library/Frameworks/Python.framework/Versions/3.8/lib/python3.8/site-packages (from requests->sec_edgar_downloader) (3.3.2)\n",
      "Requirement already satisfied: idna<4,>=2.5 in /Library/Frameworks/Python.framework/Versions/3.8/lib/python3.8/site-packages (from requests->sec_edgar_downloader) (3.8)\n",
      "Requirement already satisfied: urllib3<3,>=1.21.1 in /Library/Frameworks/Python.framework/Versions/3.8/lib/python3.8/site-packages (from requests->sec_edgar_downloader) (2.2.2)\n",
      "Requirement already satisfied: certifi>=2017.4.17 in /Library/Frameworks/Python.framework/Versions/3.8/lib/python3.8/site-packages (from requests->sec_edgar_downloader) (2024.8.30)\n",
      "Downloading sec_edgar_downloader-5.0.3-py3-none-any.whl (14 kB)\n",
      "Downloading pyrate_limiter-3.7.0-py3-none-any.whl (28 kB)\n",
      "Installing collected packages: pyrate-limiter, sec_edgar_downloader\n",
      "Successfully installed pyrate-limiter-3.7.0 sec_edgar_downloader-5.0.3\n",
      "Note: you may need to restart the kernel to use updated packages.\n"
     ]
    }
   ],
   "source": [
    "pip install sec_edgar_downloader"
   ]
  },
  {
   "cell_type": "code",
   "execution_count": 6,
   "metadata": {},
   "outputs": [
    {
     "data": {
      "text/plain": [
       "52"
      ]
     },
     "execution_count": 6,
     "metadata": {},
     "output_type": "execute_result"
    }
   ],
   "source": [
    "from sec_edgar_downloader import Downloader\n",
    "import os\n",
    "# Initialize a downloader instance. Download filings to the current\n",
    "# working directory. Must declare company name and email address\n",
    "# to form a user-agent string that complies with the SEC Edgar's\n",
    "# programmatic downloading fair access policy.\n",
    "# More info: https://www.sec.gov/os/webmaster-faq#code-support\n",
    "# Company name and email are used to form a user-agent of the form:\n",
    "# User-Agent: <Company Name> <Email Address>\n",
    "download_path =\"/Users/seaconcoding/Desktop/code/miniproject_predict_stock\"\n",
    "dl = Downloader(\"MyCompanyName\", \"my.email@domain.com\")\n",
    "os.chdir(download_path)\n",
    "\n",
    "# Get all 8-K filings for Apple (ticker: AAPL)\n",
    "# dl.get(\"8-K\", \"AAPL\")\n",
    "\n",
    "# # Get all 8-K filings for Apple, including filing amends (8-K/A)\n",
    "# dl.get(\"8-K\", \"AAPL\", include_amends=True)\n",
    "\n",
    "# # Get all 8-K filings for Apple after January 1, 2017 and before March 25, 2017\n",
    "# # Note: after and before strings must be in the form \"YYYY-MM-DD\"\n",
    "# dl.get(\"8-K\", \"AAPL\", after=\"2017-01-01\", before=\"2017-03-25\")\n",
    "\n",
    "# # Get the five most recent 8-K filings for Apple\n",
    "# dl.get(\"8-K\", \"AAPL\", limit=5)\n",
    "\n",
    "# # Get all 10-K filings for Microsoft\n",
    "# dl.get(\"10-K\", \"MSFT\")\n",
    "\n",
    "# Get the latest 10-K filing for Microsoft\n",
    "dl.get(\"10-K\", \"MSFT\", limit=1)\n",
    "\n",
    "# Get all 10-Q filings for Visa\n",
    "dl.get(\"10-Q\", \"V\")\n",
    "\n",
    "# # Get all 13F-NT filings for the Vanguard Group\n",
    "# dl.get(\"13F-NT\", \"0000102909\")\n",
    "\n",
    "# # Get all 13F-HR filings for the Vanguard Group\n",
    "# dl.get(\"13F-HR\", \"0000102909\")\n",
    "\n",
    "# # Get all SC 13G filings for Apple\n",
    "# dl.get(\"SC 13G\", \"AAPL\")\n",
    "\n",
    "# # Get all SD filings for Apple\n",
    "# dl.get(\"SD\", \"AAPL\")"
   ]
  }
 ],
 "metadata": {
  "kernelspec": {
   "display_name": "Python 3",
   "language": "python",
   "name": "python3"
  },
  "language_info": {
   "codemirror_mode": {
    "name": "ipython",
    "version": 3
   },
   "file_extension": ".py",
   "mimetype": "text/x-python",
   "name": "python",
   "nbconvert_exporter": "python",
   "pygments_lexer": "ipython3",
   "version": "3.8.0"
  }
 },
 "nbformat": 4,
 "nbformat_minor": 2
}
