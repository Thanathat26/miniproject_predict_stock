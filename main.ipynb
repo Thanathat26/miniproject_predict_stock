{
 "cells": [
  {
   "cell_type": "markdown",
   "metadata": {},
   "source": [
    "ลงlibraryที่ใช้ในการดึงข้อมูล✅"
   ]
  },
  {
   "cell_type": "code",
   "execution_count": 5,
   "metadata": {},
   "outputs": [],
   "source": [
    "import pandas as pd\n",
    "import numpy as np\n",
    "import matplotlib.pyplot as plt\n",
    "import pandas_datareader as data\n",
    "plt.style.use(\"fivethirtyeight\")\n",
    "\n"
   ]
  },
  {
   "cell_type": "markdown",
   "metadata": {},
   "source": [
    "โหลดข้อมูลdataframe จาก yahoo✅"
   ]
  },
  {
   "cell_type": "code",
   "execution_count": 8,
   "metadata": {},
   "outputs": [
    {
     "name": "stderr",
     "output_type": "stream",
     "text": [
      "[*********************100%***********************]  1 of 1 completed\n"
     ]
    }
   ],
   "source": [
    "import yfinance as yf\n",
    "import datetime as dt\n",
    "stock = \"POWERGRID.NS\"\n",
    "start = dt.datetime(2000,1,1) \n",
    "end = dt.datetime(2025,2,10)  \n",
    "df = yf.download(stock,start,end)"
   ]
  },
  {
   "cell_type": "code",
   "execution_count": null,
   "metadata": {},
   "outputs": [
    {
     "data": {
      "text/html": [
       "<div>\n",
       "<style scoped>\n",
       "    .dataframe tbody tr th:only-of-type {\n",
       "        vertical-align: middle;\n",
       "    }\n",
       "\n",
       "    .dataframe tbody tr th {\n",
       "        vertical-align: top;\n",
       "    }\n",
       "\n",
       "    .dataframe thead tr th {\n",
       "        text-align: left;\n",
       "    }\n",
       "\n",
       "    .dataframe thead tr:last-of-type th {\n",
       "        text-align: right;\n",
       "    }\n",
       "</style>\n",
       "<table border=\"1\" class=\"dataframe\">\n",
       "  <thead>\n",
       "    <tr>\n",
       "      <th>Price</th>\n",
       "      <th>Close</th>\n",
       "      <th>High</th>\n",
       "      <th>Low</th>\n",
       "      <th>Open</th>\n",
       "      <th>Volume</th>\n",
       "    </tr>\n",
       "    <tr>\n",
       "      <th>Ticker</th>\n",
       "      <th>POWERGRID.NS</th>\n",
       "      <th>POWERGRID.NS</th>\n",
       "      <th>POWERGRID.NS</th>\n",
       "      <th>POWERGRID.NS</th>\n",
       "      <th>POWERGRID.NS</th>\n",
       "    </tr>\n",
       "    <tr>\n",
       "      <th>Date</th>\n",
       "      <th></th>\n",
       "      <th></th>\n",
       "      <th></th>\n",
       "      <th></th>\n",
       "      <th></th>\n",
       "    </tr>\n",
       "  </thead>\n",
       "  <tbody>\n",
       "    <tr>\n",
       "      <th>2007-10-05</th>\n",
       "      <td>32.385578</td>\n",
       "      <td>35.250705</td>\n",
       "      <td>26.768000</td>\n",
       "      <td>28.908797</td>\n",
       "      <td>855215656</td>\n",
       "    </tr>\n",
       "    <tr>\n",
       "      <th>2007-10-08</th>\n",
       "      <td>30.727669</td>\n",
       "      <td>33.480121</td>\n",
       "      <td>30.534513</td>\n",
       "      <td>33.480121</td>\n",
       "      <td>126671715</td>\n",
       "    </tr>\n",
       "    <tr>\n",
       "      <th>2007-10-09</th>\n",
       "      <td>32.820175</td>\n",
       "      <td>33.109906</td>\n",
       "      <td>29.085854</td>\n",
       "      <td>30.743763</td>\n",
       "      <td>116725709</td>\n",
       "    </tr>\n",
       "    <tr>\n",
       "      <th>2007-10-10</th>\n",
       "      <td>33.126003</td>\n",
       "      <td>33.802045</td>\n",
       "      <td>32.836272</td>\n",
       "      <td>33.673274</td>\n",
       "      <td>67931378</td>\n",
       "    </tr>\n",
       "    <tr>\n",
       "      <th>2007-10-11</th>\n",
       "      <td>36.828129</td>\n",
       "      <td>38.630905</td>\n",
       "      <td>32.836270</td>\n",
       "      <td>38.630905</td>\n",
       "      <td>106320954</td>\n",
       "    </tr>\n",
       "  </tbody>\n",
       "</table>\n",
       "</div>"
      ],
      "text/plain": [
       "Price             Close         High          Low         Open       Volume\n",
       "Ticker     POWERGRID.NS POWERGRID.NS POWERGRID.NS POWERGRID.NS POWERGRID.NS\n",
       "Date                                                                       \n",
       "2007-10-05    32.385578    35.250705    26.768000    28.908797    855215656\n",
       "2007-10-08    30.727669    33.480121    30.534513    33.480121    126671715\n",
       "2007-10-09    32.820175    33.109906    29.085854    30.743763    116725709\n",
       "2007-10-10    33.126003    33.802045    32.836272    33.673274     67931378\n",
       "2007-10-11    36.828129    38.630905    32.836270    38.630905    106320954"
      ]
     },
     "execution_count": 9,
     "metadata": {},
     "output_type": "execute_result"
    }
   ],
   "source": [
    "df.head()\n"
   ]
  },
  {
   "cell_type": "code",
   "execution_count": 11,
   "metadata": {},
   "outputs": [
    {
     "data": {
      "text/plain": [
       "(4277, 5)"
      ]
     },
     "execution_count": 11,
     "metadata": {},
     "output_type": "execute_result"
    }
   ],
   "source": [
    "df.shape"
   ]
  },
  {
   "cell_type": "code",
   "execution_count": 13,
   "metadata": {},
   "outputs": [
    {
     "data": {
      "text/plain": [
       "<bound method DataFrame.info of Price             Close         High          Low         Open       Volume\n",
       "Ticker     POWERGRID.NS POWERGRID.NS POWERGRID.NS POWERGRID.NS POWERGRID.NS\n",
       "Date                                                                       \n",
       "2007-10-05    32.385578    35.250705    26.768000    28.908797    855215656\n",
       "2007-10-08    30.727669    33.480121    30.534513    33.480121    126671715\n",
       "2007-10-09    32.820175    33.109906    29.085854    30.743763    116725709\n",
       "2007-10-10    33.126003    33.802045    32.836272    33.673274     67931378\n",
       "2007-10-11    36.828129    38.630905    32.836270    38.630905    106320954\n",
       "...                 ...          ...          ...          ...          ...\n",
       "2025-02-03   280.519348   288.624571   274.786406   286.647690     14978897\n",
       "2025-02-04   282.347961   283.089292   268.954608   277.751720     19836427\n",
       "2025-02-05   281.903198   287.389030   281.260688   282.298568     15337191\n",
       "2025-02-06   277.899994   287.586727   276.516183   284.176596     21418561\n",
       "2025-02-07   278.149994   281.899994   270.000000   273.100006     17193482\n",
       "\n",
       "[4277 rows x 5 columns]>"
      ]
     },
     "execution_count": 13,
     "metadata": {},
     "output_type": "execute_result"
    }
   ],
   "source": [
    "df.info"
   ]
  },
  {
   "cell_type": "code",
   "execution_count": null,
   "metadata": {},
   "outputs": [],
   "source": []
  },
  {
   "cell_type": "code",
   "execution_count": null,
   "metadata": {},
   "outputs": [],
   "source": []
  },
  {
   "cell_type": "code",
   "execution_count": null,
   "metadata": {},
   "outputs": [],
   "source": []
  },
  {
   "cell_type": "code",
   "execution_count": null,
   "metadata": {},
   "outputs": [],
   "source": []
  },
  {
   "cell_type": "code",
   "execution_count": null,
   "metadata": {},
   "outputs": [],
   "source": []
  }
 ],
 "metadata": {
  "kernelspec": {
   "display_name": "Python 3",
   "language": "python",
   "name": "python3"
  },
  "language_info": {
   "codemirror_mode": {
    "name": "ipython",
    "version": 3
   },
   "file_extension": ".py",
   "mimetype": "text/x-python",
   "name": "python",
   "nbconvert_exporter": "python",
   "pygments_lexer": "ipython3",
   "version": "3.8.0"
  }
 },
 "nbformat": 4,
 "nbformat_minor": 2
}
