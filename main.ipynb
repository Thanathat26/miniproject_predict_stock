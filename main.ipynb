{
 "cells": [
  {
   "cell_type": "markdown",
   "metadata": {},
   "source": [
    "ลงlibraryที่ใช้ในการดึงข้อมูล✅"
   ]
  },
  {
   "cell_type": "code",
   "execution_count": 5,
   "metadata": {},
   "outputs": [],
   "source": [
    "import pandas as pd\n",
    "import numpy as np\n",
    "import matplotlib.pyplot as plt\n",
    "import pandas_datareader as data\n",
    "plt.style.use(\"fivethirtyeight\")\n",
    "\n"
   ]
  },
  {
   "cell_type": "markdown",
   "metadata": {},
   "source": [
    "โหลดข้อมูลdataframe จาก yahoo✅"
   ]
  },
  {
   "cell_type": "code",
   "execution_count": 8,
   "metadata": {},
   "outputs": [
    {
     "name": "stderr",
     "output_type": "stream",
     "text": [
      "[*********************100%***********************]  1 of 1 completed\n"
     ]
    }
   ],
   "source": [
    "import yfinance as yf\n",
    "import datetime as dt\n",
    "stock = \"POWERGRID.NS\"\n",
    "start = dt.datetime(2000,1,1) \n",
    "end = dt.datetime(2025,2,10)  \n",
    "df = yf.download(stock,start,end)"
   ]
  },
  {
   "cell_type": "code",
   "execution_count": null,
   "metadata": {},
   "outputs": [
    {
     "data": {
      "text/html": [
       "<div>\n",
       "<style scoped>\n",
       "    .dataframe tbody tr th:only-of-type {\n",
       "        vertical-align: middle;\n",
       "    }\n",
       "\n",
       "    .dataframe tbody tr th {\n",
       "        vertical-align: top;\n",
       "    }\n",
       "\n",
       "    .dataframe thead tr th {\n",
       "        text-align: left;\n",
       "    }\n",
       "\n",
       "    .dataframe thead tr:last-of-type th {\n",
       "        text-align: right;\n",
       "    }\n",
       "</style>\n",
       "<table border=\"1\" class=\"dataframe\">\n",
       "  <thead>\n",
       "    <tr>\n",
       "      <th>Price</th>\n",
       "      <th>Close</th>\n",
       "      <th>High</th>\n",
       "      <th>Low</th>\n",
       "      <th>Open</th>\n",
       "      <th>Volume</th>\n",
       "    </tr>\n",
       "    <tr>\n",
       "      <th>Ticker</th>\n",
       "      <th>POWERGRID.NS</th>\n",
       "      <th>POWERGRID.NS</th>\n",
       "      <th>POWERGRID.NS</th>\n",
       "      <th>POWERGRID.NS</th>\n",
       "      <th>POWERGRID.NS</th>\n",
       "    </tr>\n",
       "    <tr>\n",
       "      <th>Date</th>\n",
       "      <th></th>\n",
       "      <th></th>\n",
       "      <th></th>\n",
       "      <th></th>\n",
       "      <th></th>\n",
       "    </tr>\n",
       "  </thead>\n",
       "  <tbody>\n",
       "    <tr>\n",
       "      <th>2007-10-05</th>\n",
       "      <td>32.385578</td>\n",
       "      <td>35.250705</td>\n",
       "      <td>26.768000</td>\n",
       "      <td>28.908797</td>\n",
       "      <td>855215656</td>\n",
       "    </tr>\n",
       "    <tr>\n",
       "      <th>2007-10-08</th>\n",
       "      <td>30.727669</td>\n",
       "      <td>33.480121</td>\n",
       "      <td>30.534513</td>\n",
       "      <td>33.480121</td>\n",
       "      <td>126671715</td>\n",
       "    </tr>\n",
       "    <tr>\n",
       "      <th>2007-10-09</th>\n",
       "      <td>32.820175</td>\n",
       "      <td>33.109906</td>\n",
       "      <td>29.085854</td>\n",
       "      <td>30.743763</td>\n",
       "      <td>116725709</td>\n",
       "    </tr>\n",
       "    <tr>\n",
       "      <th>2007-10-10</th>\n",
       "      <td>33.126003</td>\n",
       "      <td>33.802045</td>\n",
       "      <td>32.836272</td>\n",
       "      <td>33.673274</td>\n",
       "      <td>67931378</td>\n",
       "    </tr>\n",
       "    <tr>\n",
       "      <th>2007-10-11</th>\n",
       "      <td>36.828129</td>\n",
       "      <td>38.630905</td>\n",
       "      <td>32.836270</td>\n",
       "      <td>38.630905</td>\n",
       "      <td>106320954</td>\n",
       "    </tr>\n",
       "  </tbody>\n",
       "</table>\n",
       "</div>"
      ],
      "text/plain": [
       "Price             Close         High          Low         Open       Volume\n",
       "Ticker     POWERGRID.NS POWERGRID.NS POWERGRID.NS POWERGRID.NS POWERGRID.NS\n",
       "Date                                                                       \n",
       "2007-10-05    32.385578    35.250705    26.768000    28.908797    855215656\n",
       "2007-10-08    30.727669    33.480121    30.534513    33.480121    126671715\n",
       "2007-10-09    32.820175    33.109906    29.085854    30.743763    116725709\n",
       "2007-10-10    33.126003    33.802045    32.836272    33.673274     67931378\n",
       "2007-10-11    36.828129    38.630905    32.836270    38.630905    106320954"
      ]
     },
     "execution_count": 9,
     "metadata": {},
     "output_type": "execute_result"
    }
   ],
   "source": [
    "df.head()\n"
   ]
  },
  {
   "cell_type": "code",
   "execution_count": 11,
   "metadata": {},
   "outputs": [
    {
     "data": {
      "text/plain": [
       "(4277, 5)"
      ]
     },
     "execution_count": 11,
     "metadata": {},
     "output_type": "execute_result"
    }
   ],
   "source": [
    "df.shape"
   ]
  },
  {
   "cell_type": "code",
   "execution_count": 14,
   "metadata": {},
   "outputs": [
    {
     "name": "stdout",
     "output_type": "stream",
     "text": [
      "<class 'pandas.core.frame.DataFrame'>\n",
      "DatetimeIndex: 4277 entries, 2007-10-05 to 2025-02-07\n",
      "Data columns (total 5 columns):\n",
      " #   Column                  Non-Null Count  Dtype  \n",
      "---  ------                  --------------  -----  \n",
      " 0   (Close, POWERGRID.NS)   4277 non-null   float64\n",
      " 1   (High, POWERGRID.NS)    4277 non-null   float64\n",
      " 2   (Low, POWERGRID.NS)     4277 non-null   float64\n",
      " 3   (Open, POWERGRID.NS)    4277 non-null   float64\n",
      " 4   (Volume, POWERGRID.NS)  4277 non-null   int64  \n",
      "dtypes: float64(4), int64(1)\n",
      "memory usage: 200.5 KB\n"
     ]
    }
   ],
   "source": [
    "df.info()"
   ]
  },
  {
   "cell_type": "code",
   "execution_count": 15,
   "metadata": {},
   "outputs": [
    {
     "data": {
      "text/plain": [
       "Price   Ticker      \n",
       "Close   POWERGRID.NS    0\n",
       "High    POWERGRID.NS    0\n",
       "Low     POWERGRID.NS    0\n",
       "Open    POWERGRID.NS    0\n",
       "Volume  POWERGRID.NS    0\n",
       "dtype: int64"
      ]
     },
     "execution_count": 15,
     "metadata": {},
     "output_type": "execute_result"
    }
   ],
   "source": [
    "df.isnull().sum()"
   ]
  },
  {
   "cell_type": "code",
   "execution_count": 16,
   "metadata": {},
   "outputs": [
    {
     "data": {
      "text/html": [
       "<div>\n",
       "<style scoped>\n",
       "    .dataframe tbody tr th:only-of-type {\n",
       "        vertical-align: middle;\n",
       "    }\n",
       "\n",
       "    .dataframe tbody tr th {\n",
       "        vertical-align: top;\n",
       "    }\n",
       "\n",
       "    .dataframe thead tr th {\n",
       "        text-align: left;\n",
       "    }\n",
       "</style>\n",
       "<table border=\"1\" class=\"dataframe\">\n",
       "  <thead>\n",
       "    <tr>\n",
       "      <th>Price</th>\n",
       "      <th>Close</th>\n",
       "      <th>High</th>\n",
       "      <th>Low</th>\n",
       "      <th>Open</th>\n",
       "      <th>Volume</th>\n",
       "    </tr>\n",
       "    <tr>\n",
       "      <th>Ticker</th>\n",
       "      <th>POWERGRID.NS</th>\n",
       "      <th>POWERGRID.NS</th>\n",
       "      <th>POWERGRID.NS</th>\n",
       "      <th>POWERGRID.NS</th>\n",
       "      <th>POWERGRID.NS</th>\n",
       "    </tr>\n",
       "  </thead>\n",
       "  <tbody>\n",
       "    <tr>\n",
       "      <th>count</th>\n",
       "      <td>4277.000000</td>\n",
       "      <td>4277.000000</td>\n",
       "      <td>4277.000000</td>\n",
       "      <td>4277.000000</td>\n",
       "      <td>4.277000e+03</td>\n",
       "    </tr>\n",
       "    <tr>\n",
       "      <th>mean</th>\n",
       "      <td>82.943864</td>\n",
       "      <td>84.024654</td>\n",
       "      <td>81.881899</td>\n",
       "      <td>82.986760</td>\n",
       "      <td>1.190105e+07</td>\n",
       "    </tr>\n",
       "    <tr>\n",
       "      <th>std</th>\n",
       "      <td>69.398443</td>\n",
       "      <td>70.230018</td>\n",
       "      <td>68.541233</td>\n",
       "      <td>69.400090</td>\n",
       "      <td>2.046653e+07</td>\n",
       "    </tr>\n",
       "    <tr>\n",
       "      <th>min</th>\n",
       "      <td>18.908405</td>\n",
       "      <td>20.212433</td>\n",
       "      <td>16.952364</td>\n",
       "      <td>20.114630</td>\n",
       "      <td>0.000000e+00</td>\n",
       "    </tr>\n",
       "    <tr>\n",
       "      <th>25%</th>\n",
       "      <td>36.448631</td>\n",
       "      <td>36.991328</td>\n",
       "      <td>35.905463</td>\n",
       "      <td>36.505618</td>\n",
       "      <td>4.842258e+06</td>\n",
       "    </tr>\n",
       "    <tr>\n",
       "      <th>50%</th>\n",
       "      <td>57.535770</td>\n",
       "      <td>58.042000</td>\n",
       "      <td>56.727841</td>\n",
       "      <td>57.293562</td>\n",
       "      <td>8.412588e+06</td>\n",
       "    </tr>\n",
       "    <tr>\n",
       "      <th>75%</th>\n",
       "      <td>84.107292</td>\n",
       "      <td>85.139161</td>\n",
       "      <td>83.045012</td>\n",
       "      <td>84.263858</td>\n",
       "      <td>1.370196e+07</td>\n",
       "    </tr>\n",
       "    <tr>\n",
       "      <th>max</th>\n",
       "      <td>356.113861</td>\n",
       "      <td>356.893408</td>\n",
       "      <td>348.074624</td>\n",
       "      <td>354.749603</td>\n",
       "      <td>8.552157e+08</td>\n",
       "    </tr>\n",
       "  </tbody>\n",
       "</table>\n",
       "</div>"
      ],
      "text/plain": [
       "Price         Close         High          Low         Open        Volume\n",
       "Ticker POWERGRID.NS POWERGRID.NS POWERGRID.NS POWERGRID.NS  POWERGRID.NS\n",
       "count   4277.000000  4277.000000  4277.000000  4277.000000  4.277000e+03\n",
       "mean      82.943864    84.024654    81.881899    82.986760  1.190105e+07\n",
       "std       69.398443    70.230018    68.541233    69.400090  2.046653e+07\n",
       "min       18.908405    20.212433    16.952364    20.114630  0.000000e+00\n",
       "25%       36.448631    36.991328    35.905463    36.505618  4.842258e+06\n",
       "50%       57.535770    58.042000    56.727841    57.293562  8.412588e+06\n",
       "75%       84.107292    85.139161    83.045012    84.263858  1.370196e+07\n",
       "max      356.113861   356.893408   348.074624   354.749603  8.552157e+08"
      ]
     },
     "execution_count": 16,
     "metadata": {},
     "output_type": "execute_result"
    }
   ],
   "source": [
    "df.describe()"
   ]
  },
  {
   "cell_type": "code",
   "execution_count": null,
   "metadata": {},
   "outputs": [],
   "source": []
  },
  {
   "cell_type": "code",
   "execution_count": null,
   "metadata": {},
   "outputs": [],
   "source": []
  },
  {
   "cell_type": "code",
   "execution_count": null,
   "metadata": {},
   "outputs": [],
   "source": []
  }
 ],
 "metadata": {
  "kernelspec": {
   "display_name": "Python 3",
   "language": "python",
   "name": "python3"
  },
  "language_info": {
   "codemirror_mode": {
    "name": "ipython",
    "version": 3
   },
   "file_extension": ".py",
   "mimetype": "text/x-python",
   "name": "python",
   "nbconvert_exporter": "python",
   "pygments_lexer": "ipython3",
   "version": "3.8.0"
  }
 },
 "nbformat": 4,
 "nbformat_minor": 2
}
